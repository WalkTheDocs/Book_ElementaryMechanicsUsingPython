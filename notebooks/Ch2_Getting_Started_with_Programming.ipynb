{
 "cells": [
  {
   "cell_type": "markdown",
   "metadata": {},
   "source": [
    "## Imports"
   ]
  },
  {
   "cell_type": "code",
   "execution_count": null,
   "metadata": {},
   "outputs": [],
   "source": [
    "from random import randint\n",
    "\n",
    "import matplotlib.pyplot as plt\n",
    "import numpy as np"
   ]
  },
  {
   "cell_type": "markdown",
   "metadata": {},
   "source": [
    "## 2.6 Conditions\n",
    "\n",
    "A particle moving randomly over time."
   ]
  },
  {
   "cell_type": "code",
   "execution_count": null,
   "metadata": {
    "scrolled": true
   },
   "outputs": [],
   "source": [
    "def dice_roll() -> int:\n",
    "    return randint(1, 6)\n",
    "\n",
    "\n",
    "def randomStepSize(size=1) -> int:\n",
    "    \"\"\"Take a random step of <size> forwards or backwards.\"\"\"\n",
    "    roll = dice_roll()\n",
    "    if (roll <= 3):\n",
    "        return -size\n",
    "    else:\n",
    "        return size\n",
    "\n",
    "\n",
    "def bind(x:int, lower=-5, upper=5) -> int:\n",
    "    \"\"\"Set upper and lower bounds for x\"\"\"\n",
    "    if (upper < x):\n",
    "        return upper\n",
    "    elif (x < lower):\n",
    "        return lower\n",
    "    else:\n",
    "        return x\n",
    "\n",
    "\n",
    "# Generate data\n",
    "n = 1000\n",
    "x = np.zeros(n, float)\n",
    "for i in range(1, n):\n",
    "    dx = randomStepSize()\n",
    "    x[i] = x[i-1] + dx\n",
    "    # x[i] = bind(x[i])\n",
    "\n",
    "    \n",
    "# Configure plot\n",
    "plt.axis((0, n, -30, 30))\n",
    "plt.ylabel(r'x(t)')\n",
    "plt.xlabel('i')\n",
    "\n",
    "# Plot\n",
    "plt.plot(x)\n",
    "plt.show()"
   ]
  },
  {
   "cell_type": "markdown",
   "metadata": {},
   "source": [
    "## 2.7 Reading Real Data\n",
    "\n",
    "Read in cumulative corona deaths in Tokyo and plot over time."
   ]
  },
  {
   "cell_type": "markdown",
   "metadata": {},
   "source": [
    "### Plot: Covid 19 Death in Tokyo vs. Time"
   ]
  },
  {
   "cell_type": "code",
   "execution_count": null,
   "metadata": {},
   "outputs": [],
   "source": [
    "data = np.loadtxt(\n",
    "    '../data/corona_deaths_cumulative_daily.csv',\n",
    "    dtype={\n",
    "        'names': ('Date', 'Prefecture', 'Deaths(Cumulative)'),\n",
    "        'formats': ('S9', 'S10', 'i')\n",
    "    },\n",
    "    delimiter=',',\n",
    "    skiprows=1,\n",
    ")\n",
    "\n",
    "\n",
    "def filter_data_by_prefecture(pref: str, data=data):\n",
    "    return [ d for d in data if d[1] == pref.encode('UTF-8') ]\n",
    "\n",
    "\n",
    "# Generate data\n",
    "data_tokyo = filter_data_by_prefecture('Tokyo')\n",
    "dates = [ d[0].decode('UTF-8') \n",
    "     if not (i % 120) \n",
    "     else '' \n",
    "     for (i, d) in enumerate(data_tokyo) \n",
    "]\n",
    "deaths = [ d[2] for d in data_tokyo ]\n",
    "\n",
    "# Configure Plot\n",
    "plt.axis((0, len(dates), 0, max(deaths)))\n",
    "plt.ylabel('Tokyo Deaths(Cumulative)')\n",
    "plt.xlabel('Date')\n",
    "\n",
    "x = range(len(dates))\n",
    "plt.xticks(x, dates)\n",
    "\n",
    "# Plot\n",
    "plt.plot(x, deaths)\n",
    "plt.show()"
   ]
  },
  {
   "cell_type": "markdown",
   "metadata": {},
   "source": [
    "### Plot: Function and Derivative\n",
    "\n",
    "$$\n",
    "f(x) = e^{-x^2}\n",
    "$$\n",
    "\n",
    "$$\n",
    "f'(x) \\approx \\frac{f(x + h) - f(x - h)}{(2h)}\n",
    "$$"
   ]
  },
  {
   "cell_type": "code",
   "execution_count": null,
   "metadata": {},
   "outputs": [],
   "source": [
    "h = 0.001\n",
    "\n",
    "x = np.linspace(-5, 5, 1000)\n",
    "f = lambda x: np.exp(-x ** 2)\n",
    "f_prime = lambda x: (-2 * x) * f(x)\n",
    "f_prime_approx = lambda x: (f(x + h) - f(x - h)) / (2 * h)\n",
    "\n",
    "y = f(x)\n",
    "y_prime = f_prime(x)\n",
    "y_prime_approx = f_prime_approx(x)\n",
    "\n",
    "plt.subplot(3, 1, 1, title='f(x)')\n",
    "plt.plot(x, y)\n",
    "\n",
    "plt.subplot(3, 1, 2, title=\"f'(x) closed form solution\")\n",
    "plt.plot(x, y_prime)\n",
    "\n",
    "plt.subplot(3, 1, 3, title=\"f'(x) approximate solution\")\n",
    "plt.plot(x, y_prime_approx)\n",
    "\n",
    "plt.tight_layout(pad=2)\n",
    "plt.show()"
   ]
  }
 ],
 "metadata": {
  "kernelspec": {
   "display_name": "Book_ElementaryMechanicsUsingPython",
   "language": "python",
   "name": "book_elementarymechanicsusingpython"
  },
  "language_info": {
   "codemirror_mode": {
    "name": "ipython",
    "version": 3
   },
   "file_extension": ".py",
   "mimetype": "text/x-python",
   "name": "python",
   "nbconvert_exporter": "python",
   "pygments_lexer": "ipython3",
   "version": "3.8.3"
  }
 },
 "nbformat": 4,
 "nbformat_minor": 4
}
