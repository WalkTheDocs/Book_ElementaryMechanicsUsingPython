{
 "cells": [
  {
   "cell_type": "markdown",
   "metadata": {},
   "source": [
    "## Imports"
   ]
  },
  {
   "cell_type": "code",
   "execution_count": null,
   "metadata": {},
   "outputs": [],
   "source": [
    "from random import randint\n",
    "import typing\n",
    "\n",
    "import ipywidgets as widgets\n",
    "import matplotlib.pyplot as plt\n",
    "import numpy as np"
   ]
  },
  {
   "cell_type": "markdown",
   "metadata": {},
   "source": [
    "## 2.6 Conditions\n",
    "\n",
    "A particle moving randomly over time."
   ]
  },
  {
   "cell_type": "code",
   "execution_count": null,
   "metadata": {
    "scrolled": true
   },
   "outputs": [],
   "source": [
    "def dice_roll() -> int:\n",
    "    return randint(1, 6)\n",
    "\n",
    "\n",
    "def randomStepSize(size=1) -> int:\n",
    "    \"\"\"Take a random step of <size> forwards or backwards.\"\"\"\n",
    "    roll = dice_roll()\n",
    "    if (roll <= 3):\n",
    "        return -size\n",
    "    else:\n",
    "        return size\n",
    "\n",
    "\n",
    "def bind(x:int, lower=-5, upper=5) -> int:\n",
    "    \"\"\"Set upper and lower bounds for x\"\"\"\n",
    "    if (upper < x):\n",
    "        return upper\n",
    "    elif (x < lower):\n",
    "        return lower\n",
    "    else:\n",
    "        return x\n",
    "\n",
    "\n",
    "# Generate data\n",
    "n = 1000\n",
    "x = np.zeros(n, float)\n",
    "for i in range(1, n):\n",
    "    dx = randomStepSize()\n",
    "    x[i] = x[i-1] + dx\n",
    "    # x[i] = bind(x[i])\n",
    "\n",
    "    \n",
    "# Configure plot\n",
    "plt.axis((0, n, -30, 30))\n",
    "plt.ylabel(r'x(t)')\n",
    "plt.xlabel('i')\n",
    "\n",
    "# Plot\n",
    "plt.plot(x)\n",
    "plt.show()"
   ]
  },
  {
   "cell_type": "markdown",
   "metadata": {},
   "source": [
    "## 2.7 Reading Real Data\n",
    "\n",
    "Read in cumulative corona deaths in Tokyo and plot over time."
   ]
  },
  {
   "cell_type": "markdown",
   "metadata": {},
   "source": [
    "### Plot: Covid 19 Death in Tokyo vs. Time"
   ]
  },
  {
   "cell_type": "code",
   "execution_count": null,
   "metadata": {},
   "outputs": [],
   "source": [
    "data = np.loadtxt(\n",
    "    '../data/corona_deaths_cumulative_daily.csv',\n",
    "    dtype={\n",
    "        'names': ('Date', 'Prefecture', 'Deaths(Cumulative)'),\n",
    "        'formats': ('S9', 'S10', 'i')\n",
    "    },\n",
    "    delimiter=',',\n",
    "    skiprows=1,\n",
    ")\n",
    "\n",
    "\n",
    "def filter_data_by_prefecture(pref: str, data=data):\n",
    "    return [ d for d in data if d[1] == pref.encode('UTF-8') ]\n",
    "\n",
    "\n",
    "# Generate data\n",
    "data_tokyo = filter_data_by_prefecture('Tokyo')\n",
    "dates = [ d[0].decode('UTF-8') \n",
    "     if not (i % 120) \n",
    "     else '' \n",
    "     for (i, d) in enumerate(data_tokyo) \n",
    "]\n",
    "deaths = [ d[2] for d in data_tokyo ]\n",
    "\n",
    "# Configure Plot\n",
    "plt.axis((0, len(dates), 0, max(deaths)))\n",
    "plt.ylabel('Tokyo Deaths(Cumulative)')\n",
    "plt.xlabel('Date')\n",
    "\n",
    "x = range(len(dates))\n",
    "plt.xticks(x, dates)\n",
    "\n",
    "# Plot\n",
    "plt.plot(x, deaths)\n",
    "plt.show()"
   ]
  },
  {
   "cell_type": "markdown",
   "metadata": {},
   "source": [
    "### Plot: Function and Derivative\n",
    "\n",
    "$$\n",
    "f(x) = e^{-x^2}\n",
    "$$\n",
    "\n",
    "$$\n",
    "f'(x) \\approx \\frac{f(x + h) - f(x - h)}{(2h)}\n",
    "$$"
   ]
  },
  {
   "cell_type": "code",
   "execution_count": null,
   "metadata": {},
   "outputs": [],
   "source": [
    "h = 0.001\n",
    "\n",
    "x = np.linspace(-5, 5, 1000)\n",
    "f = lambda x: np.exp(-x ** 2)\n",
    "f_prime = lambda x: (-2 * x) * f(x)\n",
    "f_prime_approx = lambda x: (f(x + h) - f(x - h)) / (2 * h)\n",
    "\n",
    "y = f(x)\n",
    "y_prime = f_prime(x)\n",
    "y_prime_approx = f_prime_approx(x)\n",
    "\n",
    "plt.subplot(3, 1, 1, title='f(x)')\n",
    "plt.plot(x, y)\n",
    "\n",
    "plt.subplot(3, 1, 2, title=\"f'(x) closed form solution\")\n",
    "plt.plot(x, y_prime)\n",
    "\n",
    "plt.subplot(3, 1, 3, title=\"f'(x) approximate solution\")\n",
    "plt.plot(x, y_prime_approx)\n",
    "\n",
    "plt.tight_layout(pad=2)\n",
    "plt.show()"
   ]
  },
  {
   "cell_type": "markdown",
   "metadata": {},
   "source": [
    "## Exercises"
   ]
  },
  {
   "cell_type": "markdown",
   "metadata": {},
   "source": [
    "## 2.1 Seconds\n",
    "\n",
    "* (a) Write a script that calculates the number of seconds, s, given the number of hours,\n",
    "h, according to the formula s = 3600 h.\n",
    "\n",
    "* (b) Use the script to find the number of seconds in 1.5, 12 and 24 h."
   ]
  },
  {
   "cell_type": "code",
   "execution_count": null,
   "metadata": {},
   "outputs": [],
   "source": [
    "# a\n",
    "def seconds_to_hours(hours: float) -> float:\n",
    "    return hours * 3600\n",
    "\n",
    "# b\n",
    "results = [seconds_to_hours(hour) for hour in (1.5, 12, 24)]\n",
    "print(results)"
   ]
  },
  {
   "cell_type": "markdown",
   "metadata": {},
   "source": [
    "## 2.2 Spherical Mass\n",
    "* (a) Write a script that calculates the mass of a sphere given its radius r and mass\n",
    "density ρ according to the formula $m = (4\\pi/3) ρr^3 $.\n",
    "\n",
    "* (b) Use the script to find the mass of a sphere of steel of radius r = 1 mm, r = 1 m,\n",
    "and r = 10 m."
   ]
  },
  {
   "cell_type": "code",
   "execution_count": null,
   "metadata": {},
   "outputs": [],
   "source": [
    "# a\n",
    "def sphere_mass(r: float, rho: float) -> float:\n",
    "    \"\"\"r in meters, rho in kg/m^3, result in kg\"\"\"\n",
    "    return (4 * np.pi / 3) * rho * r ** 3\n",
    "\n",
    "# b\n",
    "rho_steel = 8000 # kg / m^3\n",
    "results = [ sphere_mass(r, rho_steel) for r in (1e-3, 1, 10) ]\n",
    "\n",
    "print(results)"
   ]
  },
  {
   "cell_type": "markdown",
   "metadata": {},
   "source": [
    "## 2.5 Plotting the normal distribution\n",
    "\n",
    "The normal distribution is given as\n",
    "\n",
    "$$\n",
    "    P(x; \\mu, \\sigma) = \\frac{1}{\\sqrt{2\\pi\\sigma^2}}e^{-(x-\\mu)^2/(2\\sigma^2)}\n",
    "$$\n",
    "where $\\mu$ is the average and $\\sigma$ is the standard deviation.\n",
    "\n",
    "* (a) Make a function normal(x,mu,sigma) that returns the normal distribution\n",
    "value, P(x, μ, σ ) as given by the formula.\n",
    "\n",
    "* (b) Use this function to plot the normal distribution for −5 < x < 5 for μ = 0 and\n",
    "σ = 1.\n",
    "\n",
    "* (c) Plot the normal distribution for −5 < x < 5 for μ = 0 and σ = 2 and for\n",
    "σ = 0.5 in the same plot.\n",
    "\n",
    "* (d) Plot the normal distribution for −5 < x < 5 for σ = 1 and μ = 0, 1, 2 in three\n",
    "subplots above each other."
   ]
  },
  {
   "cell_type": "code",
   "execution_count": null,
   "metadata": {},
   "outputs": [],
   "source": [
    "# a\n",
    "def normal(x: float, mu: float, sigma: float) -> float:\n",
    "    return (\n",
    "        (1 / np.sqrt(2 * np.pi * sigma ** 2)) * \n",
    "        np.exp(-(x - mu) ** 2 / (2 * sigma ** 2))\n",
    "    )\n",
    "\n",
    "# b\n",
    "x = np.linspace(-5, 5, 1000)\n",
    "P_b = normal(x, 0, 1)\n",
    "plt.plot(x, P_b)\n",
    "\n",
    "# c\n",
    "P_c = (normal(x, 0, 2), normal(x, 0, 0.5))\n",
    "plt.plot(x, P_c[0])\n",
    "plt.plot(x, P_c[1])\n",
    "\n",
    "plt.ylabel('P(x, , mu, sigma)')\n",
    "plt.xlabel('x')\n",
    "plt.show()\n",
    "plt.clf()\n",
    "\n",
    "# d\n",
    "for i in range(3):\n",
    "    plt.subplot(3, 1, i + 1, title=f'P(x, {i}, 1)')\n",
    "    plt.plot(x, normal(x, i, 1))\n",
    "plt.tight_layout(pad=2)\n",
    "plt.show()"
   ]
  },
  {
   "cell_type": "markdown",
   "metadata": {},
   "source": [
    "## 2.8 Logistic map\n",
    "\n",
    "The iterative mapping x(i + 1) = r x(i) (1 − x(i)) is called the\n",
    "logistic map.\n",
    "\n",
    "* (a) Make a function logistic(x,r) which returns the value of x(i + 1) given\n",
    "x(i) and r as inputs.\n",
    "\n",
    "* (b) Write a script with a loop to calculate the first 100 steps of the logistic map\n",
    "starting from x(1) = 0.5. Store all the values in an array x with n = 100 elements\n",
    "and plot x as a function of the number of steps i:\n",
    "\n",
    "* (c) Explore the logistic map for r = 1.0, 2.0, 3.0 and 4.0."
   ]
  },
  {
   "cell_type": "code",
   "execution_count": null,
   "metadata": {},
   "outputs": [],
   "source": [
    "# a\n",
    "def logistic(x: float, r: float) -> float:\n",
    "    return r * x * (1 - x)\n",
    "\n",
    "# b\n",
    "def logistic_values(x_0: float, r: float, n=100) -> list:\n",
    "    x = np.zeros(n)\n",
    "    x[0] = x_0\n",
    "    for i in range(n-1):\n",
    "        x[i + 1] = logistic(x[i], r)\n",
    "    return x\n",
    "    \n",
    "def plot_logistic(x_0: float, r: float, n=100):\n",
    "    i = np.arange(n)\n",
    "    x = logistic_values(x_0, r, n)\n",
    "    plt.plot(i, x)\n",
    "\n",
    "\n",
    "x_0_slider = widgets.FloatSlider(value=0.5, min=0.5, max=1.0, step=0.05)\n",
    "r_slider = widgets.FloatSlider(value=2.5, min=1.0, max=4.0, step=0.1)   \n",
    "n_slider = widgets.IntSlider(value=100, min=10, max=1000)\n",
    "\n",
    "widgets.interact(\n",
    "    plot_logistic,\n",
    "    x_0=x_0_slider,\n",
    "    r=r_slider,\n",
    "    n=n_slider\n",
    ")"
   ]
  },
  {
   "cell_type": "markdown",
   "metadata": {},
   "source": [
    "## 2.9  Euler's method\n",
    "\n",
    "In mechanics, we often use Euler’s method to determine the\n",
    "motion of an object given how the acceleration depends on the velocity and position\n",
    "of an object. For example, we may know that the acceleration a(x, v) is given as\n",
    "a(x, v) = −kx − cv. If we know the position x and the velocity v at a time t = 0:\n",
    "$x(0) = x_0 = 0$ and $v(0) = v_0 = 1$, we can use Euler’s method to find the position\n",
    "and velocity after a small timestep Δt:\n",
    "\n",
    "$$\n",
    "\\begin{align}\n",
    "  v_1 & = v(t_0 + \\Delta t) = v(t_0) + a(v(t_0), x(t_0))\\Delta t \\\\\n",
    "  x_1 & = x(t_0 + \\Delta t) = x(t_0) + v(t_0)\\Delta t \\\\\n",
    "  v_2 & = v(t_1 + \\Delta t) = v(t_1) + a(v(t_1), x(t_1))\\Delta t \\\\\n",
    "  x_2 & = x(t_1 + \\Delta t) = x(t_1) + v(t_1)\\Delta t \\\\\n",
    "\\end{align}\n",
    "$$\n",
    "\n",
    "and so on. We can therefore use this scheme to find the position x(t) and the velocity\n",
    "v(t) as function of time at the discrete values t i = iΔt in time.\n",
    "\n",
    "* (a) Write a function acceleration(v,x,k,C) which returns the value of\n",
    "a(x, v) = −kx − Cv.\n",
    "\n",
    "* (b) Write a script that calculates the first 100 values of x(t i ) and v(t i ) when k = 10,\n",
    "C = 5, and Δt = 0.01. Plot x(t), v(t), and a(t) as functions of time.\n",
    "\n",
    "* (c) What would you need to change to instead to find x(t) and v(t) if the acceleration\n",
    "was given as a(v, x) = k sin(x) − Cv?"
   ]
  },
  {
   "cell_type": "code",
   "execution_count": null,
   "metadata": {},
   "outputs": [],
   "source": [
    "# a\n",
    "def acceleration(v: float, x: float, k: float, C: float) -> float:\n",
    "    return -k * x - C * v\n",
    "\n",
    "# c\n",
    "def other_acceleration(v: float, x: float, k: float, C: float) -> float:\n",
    "    return k * np.sin(x) - C * v\n",
    "\n",
    "# b / c\n",
    "k, C = 5, 10\n",
    "t_f = 1\n",
    "n = 100\n",
    "\n",
    "dt = t_f / n\n",
    "t = np.arange(0, t_f, dt)\n",
    "x = np.zeros(100)\n",
    "v = np.zeros(100)\n",
    "a = np.zeros(100)\n",
    "other_a = np.zeros(100)\n",
    "\n",
    "x[0] = 0\n",
    "v[0] = 1\n",
    "a[0] = acceleration(x[0], v[0], k=k, C=C)\n",
    "other_a[0] = other_acceleration(x[0], v[0], k=k, C=C)\n",
    "\n",
    "for i in range(n - 1):\n",
    "    x[i + 1] = x[i] + v[i] * dt\n",
    "    v[i + 1] = v[i] + a[i] * dt\n",
    "    a[i + 1] = acceleration(v[i + 1], x[i + 1], k=k, C=C)\n",
    "    other_a[i + 1] = other_acceleration(v[i + 1], x[i + 1], k=k, C=C)\n",
    "    \n",
    "plt.plot(t, x)\n",
    "plt.plot(t, v)\n",
    "# plt.plot(t, a)\n",
    "# plt.plot(t, other_a)\n",
    "plt.show()"
   ]
  }
 ],
 "metadata": {
  "kernelspec": {
   "display_name": "Book_ElementaryMechanicsUsingPython",
   "language": "python",
   "name": "book_elementarymechanicsusingpython"
  },
  "language_info": {
   "codemirror_mode": {
    "name": "ipython",
    "version": 3
   },
   "file_extension": ".py",
   "mimetype": "text/x-python",
   "name": "python",
   "nbconvert_exporter": "python",
   "pygments_lexer": "ipython3",
   "version": "3.8.3"
  }
 },
 "nbformat": 4,
 "nbformat_minor": 4
}
