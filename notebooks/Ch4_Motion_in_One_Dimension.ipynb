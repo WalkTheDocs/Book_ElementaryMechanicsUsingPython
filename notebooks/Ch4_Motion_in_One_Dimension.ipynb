{
 "cells": [
  {
   "cell_type": "markdown",
   "id": "e937d6e0",
   "metadata": {},
   "source": [
    "## Imports"
   ]
  },
  {
   "cell_type": "code",
   "execution_count": 1,
   "id": "8231e667",
   "metadata": {},
   "outputs": [],
   "source": [
    "from random import randint\n",
    "import typing\n",
    "\n",
    "import ipywidgets as widgets\n",
    "import matplotlib.pyplot as plt\n",
    "import numpy as np"
   ]
  },
  {
   "cell_type": "markdown",
   "id": "7a61c4c0",
   "metadata": {},
   "source": [
    "## Euler's Method vs. Euler-Cromer's method\n",
    "\n",
    "#### Euler's Method\n",
    "$$\n",
    "\\begin{align}\n",
    "    x(t_i + \\Delta t) & \\approx x(t_i) + v(t_i) \\cdot \\Delta t \\\\\n",
    "    v(t_i + \\Delta t) & \\approx v(t_i) + a(t_i, x(t_i), v(t_i)) \\cdot \\Delta t\n",
    "\\end{align}\n",
    "$$\n",
    "\n",
    "#### Euler-Cromer Method\n",
    "$$\n",
    "\\begin{align}\n",
    "  x(t_i + \\Delta t) & \\approx x(t_i) + v(t_i + \\Delta t) \\cdot \\Delta t \\\\\n",
    "  v(t_i + \\Delta t) & \\approx v(t_i) + a(t_i, x(t_i), v(t_i)) \\cdot \\Delta t\n",
    "\\end{align}\n",
    "$$\n",
    "\n",
    "### Falling Tennis Ball\n",
    "The acceleration of a falling body with air resistance is given by\n",
    "\n",
    "$$\n",
    "  a = \\frac{dv}{dt} = -g - D v |v|\n",
    "$$\n",
    "\n",
    "* For a tennis ball we have $ D = 0.0245m^{-1} $\n",
    "\n",
    "The equations of motion for the ball being dropped would then be ...\n",
    "$$\n",
    "  y(t) = y_0 - \\frac{1}{2}(g + Dv|v|)t^2 \\\\\n",
    "  v_y(t) = - (g + Dv|v|)t\n",
    "$$"
   ]
  },
  {
   "cell_type": "code",
   "execution_count": 30,
   "id": "70835008",
   "metadata": {},
   "outputs": [
    {
     "data": {
      "image/png": "[encoded data removed]",
      "text/plain": [
       "<Figure size 432x288 with 1 Axes>"
      ]
     },
     "metadata": {
      "needs_background": "light"
     },
     "output_type": "display_data"
    }
   ],
   "source": [
    "D = 0.0245 # m^-1\n",
    "g = 9.8 # m / s^2\n",
    "y_0 = 2.0\n",
    "v_0 = 0.0\n",
    "dt = 1e-2\n",
    "\n",
    "time = 100 # s\n",
    "\n",
    "def a_i(v_i:float, D=D, g=g) -> float:\n",
    "    return -g - D * v_i * abs(v_i)\n",
    "\n",
    "def plots(D=D, g=g, y_0=y_0, v_0=v_0, dt=dt, time=time):\n",
    "    n = int(np.ceil(time/dt))\n",
    "    y_e = np.zeros(n)     # Euler\n",
    "    y_ec = np.zeros(n)    # Euler-Cromer\n",
    "    v = np.zeros(n)\n",
    "    a = np.zeros(n)\n",
    "    t = np.arange(0, time, dt)\n",
    "\n",
    "    y_e[0] = y_ec[0] = y_0\n",
    "    v[0] = v_0\n",
    "    for i in range(n - 1):\n",
    "        a[i] = a_i(v[i], D=D, g=g)\n",
    "        v[i + 1] = v[i] + a[i] * dt\n",
    "        y_e[i + 1] = y_e[i] + v[i] * dt\n",
    "        y_ec[i + 1] = y_ec[i] + v[i+1] * dt\n",
    "        \n",
    "    a[n - 1] = a_i(v[n - 1], D=D, g=g)\n",
    "    \n",
    "    plt.plot(t, y_e - y_ec)\n",
    "#     plt.plot(t, y_e)\n",
    "#     plt.plot(t, y_ec)\n",
    "#     plt.plot(t, v)\n",
    "#     plt.plot(t, a)\n",
    "    plt.show()\n",
    "        \n",
    "        \n",
    "plots()\n",
    "\n",
    "## TODO\n",
    "# Subplot\n",
    "# Legends\n",
    "# Interactivity\n",
    "# Compare both methods to the analytical solution.\n",
    "# What are other problems have analytical solutions that you can model and compare resutls to?\n"
   ]
  },
  {
   "cell_type": "code",
   "execution_count": null,
   "id": "0e127733",
   "metadata": {},
   "outputs": [],
   "source": []
  },
  {
   "cell_type": "code",
   "execution_count": null,
   "id": "3af8c3ff",
   "metadata": {},
   "outputs": [],
   "source": []
  }
 ],
 "metadata": {
  "kernelspec": {
   "display_name": "Book_ElementaryMechanicsUsingPython",
   "language": "python",
   "name": "book_elementarymechanicsusingpython"
  },
  "language_info": {
   "codemirror_mode": {
    "name": "ipython",
    "version": 3
   },
   "file_extension": ".py",
   "mimetype": "text/x-python",
   "name": "python",
   "nbconvert_exporter": "python",
   "pygments_lexer": "ipython3",
   "version": "3.8.3"
  }
 },
 "nbformat": 4,
 "nbformat_minor": 5
}
